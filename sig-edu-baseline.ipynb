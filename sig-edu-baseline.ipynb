{
 "cells": [
  {
   "cell_type": "markdown",
   "id": "dd224547-6976-44d3-a611-16f57b02ce61",
   "metadata": {},
   "source": [
    "# BEA 2024 Shared Task\n",
    "\n",
    "## Automated Prediction of Item Difficulty and Item Response Time"
   ]
  },
  {
   "cell_type": "markdown",
   "id": "a562236a-2d63-4bb6-bca9-8ec17ef96249",
   "metadata": {},
   "source": [
    "### Problem Statement:  \n",
    "\n",
    "\r\n",
    "Motivation\r\n",
    "For standardized exams to be fair and valid, test items must meet certain criteria. One important criterion is that the questions should cover a wide range of difficulty levels to gather information about the abilities of test takers effectively. Additionally, it is essential to allocate an appropriate amount of time for each question: too little time can make the exam speeded, while too much time can make it inefficient. Typically, item difficulty and response time data are collected via a process called pretesting, where new items are embedded in live exams alongside scored items. While robust, this process of collecting item characteristics data is time-consuming and expensive. As noted by Settles et al. (2020), “This labor-intensive process often restricts the number of items that can feasibly be created, which in turn poses a threat to security: Items may be copied and leaked, or simply used too often”.\r\n",
    "\r\n",
    "To address this challenge (also referred to as the “cold-start parameter estimation problem” (McCarthy et al., 2021)), there is growing interest in predicting item characteristics such as difficulty and response time based on the item text. Such estimates can be used to “jump-start” parameter estimation by exposing the item to a smaller sample of test-takers, or improve fairness by reducing the time variance for forms that include pretest items (Baldwin et al., 2020).\r\n",
    "\r\n",
    "Due to difficulties with sharing exam data, efforts to advance the state-of-the-art in item parameter prediction have been fragmented and conducted in individual institutions, with no transparent evaluation on a publicly available dataset. In this Shared Task, we bridge this gap by sharing practice item content and characteristics from a high-stakes medical exam called the United States Medical Licensing Examination® (USMLE®) for the exploration of two topics: predicting item difficulty (Track 1) and item response time (Track 2) basured in seconds.\n",
    "\n",
    "reference : https://sig-edu.org/sharedtask/2024\n"
   ]
  },
  {
   "cell_type": "markdown",
   "id": "94a1d267-c0ce-405f-be82-da4a87ee8b80",
   "metadata": {},
   "source": [
    "### Data\n",
    "\n",
    "The data for the Shared Task consists of 667 previously used and now retired Multiple Choice Questions (MCQs) from USMLE Steps 1, 2 CK, and 3. The USMLE is a series of examinations (called Steps) to support medical licensure decisions in the United States that is developed by the National Board of Medical Examiners (NBME) and Federation of State Medical Boards (FSMB). An example practice item from the dataset is given in Table 1.\n",
    "\n",
    "Q\tA 65-year-old woman comes to the physician for a follow-up examination after blood pressure measurements were 175/105 mm Hg and 185/110 mm Hg 1 and 3 weeks ago, respectively. She has well-controlled type 2 diabetes mellitus. Her blood pressure now is 175/110 mm Hg. Physical examination shows no other abnormalities. Antihypertensive therapy is started, but her blood pressure remains elevated at her next visit 3 weeks later. Laboratory studies show increased plasma renin activity; the erythrocyte sedimentation rate and serum electrolytes are within the reference ranges. Angiography shows a high-grade stenosis of the proximal right renal artery; the left renal artery appears normal. Which of the following is the most likely diagnosis?\n",
    "(A)\tAtherosclerosis\n",
    "(B)\tCongenital renal artery hypoplasia\n",
    "(C)\tFibromuscular dysplasia\n",
    "(D)\tTakayasu arteritis\n",
    "(E)\tTemporal arteritis\n",
    "Table 1: An example of a practice item from the USMLE Step 1 Sample Test Questions at usmle.org\n",
    "\n",
    "The part describing the case is referred to as stem, the correct answer is referred to as key, and the incorrect answer options are known as distractors. All items are MCQs that test medical knowledge and were written by experienced subject matter experts following a set of guidelines, stipulating adherence to a standard structure. These guidelines require avoidance of “window dressing” (extraneous material not needed to answer the item), “red herrings” (information designed to mislead the test-taker), and grammatical cues (e.g., correct answers that are longer or more specific than the other options). The goal of standardizing items in this manner is to produce items that vary in their difficulty and discriminating power due only to differences in the medical content they assess.\n",
    "\n",
    "The items were administered within a standard nine-hour exam. For this shared task, the item characteristic data was derived from first-time examinees from accredited US and Canadian medical schools.\n",
    "\n",
    "Each item is tagged with the following item characteristics:\n",
    "\n",
    "<b> Item difficulty: </b> A measure of item difficulty where higher values indicate more difficult items.\n",
    "\n",
    "<b> Time intensity: </b> arithmetic mean response time, measured in seconds, across all examinees who attempted a given item in a live exam. This includes all time spent on the item from the moment it is presented on the screen until the examinee moves to the next item, as well as any revisits.\n",
    "\n",
    "The data is structured as follows:\n",
    "\n",
    "ItemNum<\\t>ItemStem_Text<\\t>Answer__A<\\t>Answer__B<\\t>Answer__C<\\t>Answer__D<\\t>Answer__E<\\t>Answer__F<\\t>Answer__G<\\t>Answer__H<\\t>Answer__I<\\t>Answer__J<\\t>Answer_Key<\\t>Answer_Text<\\t>ItemType<\\t>EXAM<\\t>Difficulty<\\t>Response_Time\n",
    "ItemNum denotes the consecutive number of the item in the dataset (e.g., 1,2,3,4,5, etc).\n",
    "\n",
    "<b> **ItemStem_Text** </b> contains the text data for the item stem (the part of the item describing the clinical case).\n",
    "\n",
    "<b> Answer__A </b> contains the text for response option A\n",
    "\n",
    "<b> Answer__B </b> contains the text for response option B\n",
    "\n",
    "<b> Answer__C </b> contains the text for response option C.\n",
    "\n",
    "(…)\n",
    "\n",
    "<b> Answer__J </b> contains the text for response option J. For items that have fewer than J response options, the remaining columns are left blank. For example, if an item contains response options A to E, the fields for columns F to J are left blank for that item.\n",
    "\n",
    "<b> Answer__Key </b> contains the letter of the correct answer for that item.\n",
    "\n",
    "<b> Answer_Text </b> contains the text of the correct response for the item.\n",
    "\n",
    "<b> ItemType </b> denotes whether the item contained an image (e.g., an x-ray image, picture of a skin lesion, etc.) or not. The value “Text” denotes text-only items that do not contain images and the value “PIX” denotes items that contain an image. Note that the images are not part of the dataset.\n",
    "\n",
    "<b> EXAM </b> denotes the Step of the USMLE exam the item belongs to (Step 1, Step 2, or Step 3). For more information on the Steps of the USMLE see https://www.usmle.org/step-exams. <br>\n",
    "\n",
    "<b> Difficulty </b> contains the item difficulty measure. Higher values indicate more difficult items. <br>\n",
    "\n",
    "<b> Response_Time </b> contains the mean response time for the item measured in seconds. <br>\n",
    "\n",
    "reference : https://sig-edu.org/sharedtask/2024"
   ]
  },
  {
   "cell_type": "markdown",
   "id": "36b52dec-4e07-458a-bf9e-c729bc2bbaa2",
   "metadata": {},
   "source": [
    "## Baseline:"
   ]
  },
  {
   "cell_type": "markdown",
   "id": "eb1a3394-1184-4e93-a759-42f407a05cf3",
   "metadata": {},
   "source": [
    "#### 1. Data Cleaning / Preprocessing / Analysis"
   ]
  },
  {
   "cell_type": "code",
   "execution_count": 24,
   "id": "09790be7-0768-43fd-bd22-695ad89ac5c8",
   "metadata": {},
   "outputs": [],
   "source": [
    "# Import libraries/frameworks\n",
    "import pandas as pd\n",
    "import numpy as np\n",
    "from sklearn.model_selection import train_test_split\n",
    "from sentence_transformers import SentenceTransformer\n",
    "from sklearn.metrics import mean_squared_error\n",
    "from tqdm import tqdm\n",
    "import tensorflow as tf\n",
    "from tensorflow.keras import layers\n",
    "from tensorflow import keras"
   ]
  },
  {
   "cell_type": "code",
   "execution_count": 25,
   "id": "ef402087-5617-4a94-99c9-f34e1095ef14",
   "metadata": {},
   "outputs": [
    {
     "data": {
      "text/html": [
       "<div>\n",
       "<style scoped>\n",
       "    .dataframe tbody tr th:only-of-type {\n",
       "        vertical-align: middle;\n",
       "    }\n",
       "\n",
       "    .dataframe tbody tr th {\n",
       "        vertical-align: top;\n",
       "    }\n",
       "\n",
       "    .dataframe thead th {\n",
       "        text-align: right;\n",
       "    }\n",
       "</style>\n",
       "<table border=\"1\" class=\"dataframe\">\n",
       "  <thead>\n",
       "    <tr style=\"text-align: right;\">\n",
       "      <th></th>\n",
       "      <th>ItemNum</th>\n",
       "      <th>ItemStem_Text</th>\n",
       "      <th>Answer__A</th>\n",
       "      <th>Answer__B</th>\n",
       "      <th>Answer__C</th>\n",
       "      <th>Answer__D</th>\n",
       "      <th>Answer__E</th>\n",
       "      <th>Answer__F</th>\n",
       "      <th>Answer__G</th>\n",
       "      <th>Answer__H</th>\n",
       "      <th>Answer__I</th>\n",
       "      <th>Answer__J</th>\n",
       "      <th>Answer_Key</th>\n",
       "      <th>Answer_Text</th>\n",
       "      <th>ItemType</th>\n",
       "      <th>EXAM</th>\n",
       "      <th>Difficulty</th>\n",
       "      <th>Response_Time</th>\n",
       "    </tr>\n",
       "  </thead>\n",
       "  <tbody>\n",
       "    <tr>\n",
       "      <th>0</th>\n",
       "      <td>91</td>\n",
       "      <td>Over 1 year, a study is conducted to assess th...</td>\n",
       "      <td>Case-control study</td>\n",
       "      <td>Crossover study</td>\n",
       "      <td>Open-labeled clinical trial</td>\n",
       "      <td>Randomized clinical trial</td>\n",
       "      <td>Single-blind, randomized, controlled trial</td>\n",
       "      <td>NaN</td>\n",
       "      <td>NaN</td>\n",
       "      <td>NaN</td>\n",
       "      <td>NaN</td>\n",
       "      <td>NaN</td>\n",
       "      <td>C</td>\n",
       "      <td>Open-labeled clinical trial</td>\n",
       "      <td>Text</td>\n",
       "      <td>STEP 1</td>\n",
       "      <td>0.86</td>\n",
       "      <td>111.21</td>\n",
       "    </tr>\n",
       "    <tr>\n",
       "      <th>1</th>\n",
       "      <td>288</td>\n",
       "      <td>A previously healthy 52-year-old woman comes t...</td>\n",
       "      <td>Calcitriol production by activated macrophages</td>\n",
       "      <td>Local resorption of bone by metastases</td>\n",
       "      <td>Parathyroid hormone-related peptide secretion</td>\n",
       "      <td>Secretion of parathyroid hormone</td>\n",
       "      <td>Secretion of thyroid-stimulating hormone</td>\n",
       "      <td>NaN</td>\n",
       "      <td>NaN</td>\n",
       "      <td>NaN</td>\n",
       "      <td>NaN</td>\n",
       "      <td>NaN</td>\n",
       "      <td>A</td>\n",
       "      <td>Calcitriol production by activated macrophages</td>\n",
       "      <td>Text</td>\n",
       "      <td>STEP 1</td>\n",
       "      <td>0.44</td>\n",
       "      <td>83.94</td>\n",
       "    </tr>\n",
       "    <tr>\n",
       "      <th>2</th>\n",
       "      <td>160</td>\n",
       "      <td>A 42-year-old woman is brought to the emergenc...</td>\n",
       "      <td>CT scan of the abdomen</td>\n",
       "      <td>CT scan of the chest</td>\n",
       "      <td>Thoracoscopy</td>\n",
       "      <td>Laparotomy</td>\n",
       "      <td>Thoracotomy</td>\n",
       "      <td>NaN</td>\n",
       "      <td>NaN</td>\n",
       "      <td>NaN</td>\n",
       "      <td>NaN</td>\n",
       "      <td>NaN</td>\n",
       "      <td>D</td>\n",
       "      <td>Laparotomy</td>\n",
       "      <td>Text</td>\n",
       "      <td>STEP 2</td>\n",
       "      <td>0.64</td>\n",
       "      <td>87.82</td>\n",
       "    </tr>\n",
       "    <tr>\n",
       "      <th>3</th>\n",
       "      <td>514</td>\n",
       "      <td>A 37-year-old woman comes to the office for a ...</td>\n",
       "      <td>Corticosteroid therapy</td>\n",
       "      <td>Taking frequent breaks from the paper-bleachin...</td>\n",
       "      <td>Undergoing monthly pulmonary function testing</td>\n",
       "      <td>Using a respirator at work</td>\n",
       "      <td>Washing daily after work with a chlorhexidine-...</td>\n",
       "      <td>NaN</td>\n",
       "      <td>NaN</td>\n",
       "      <td>NaN</td>\n",
       "      <td>NaN</td>\n",
       "      <td>NaN</td>\n",
       "      <td>D</td>\n",
       "      <td>Using a respirator at work</td>\n",
       "      <td>Text</td>\n",
       "      <td>STEP 2</td>\n",
       "      <td>0.50</td>\n",
       "      <td>54.87</td>\n",
       "    </tr>\n",
       "    <tr>\n",
       "      <th>4</th>\n",
       "      <td>452</td>\n",
       "      <td>A 71-year-old woman comes to the physician bec...</td>\n",
       "      <td>Cellular</td>\n",
       "      <td>Complement</td>\n",
       "      <td>Humoral</td>\n",
       "      <td>Phagocytic cell</td>\n",
       "      <td>Toll-like receptor</td>\n",
       "      <td>NaN</td>\n",
       "      <td>NaN</td>\n",
       "      <td>NaN</td>\n",
       "      <td>NaN</td>\n",
       "      <td>NaN</td>\n",
       "      <td>A</td>\n",
       "      <td>Cellular</td>\n",
       "      <td>PIX</td>\n",
       "      <td>STEP 1</td>\n",
       "      <td>0.40</td>\n",
       "      <td>69.11</td>\n",
       "    </tr>\n",
       "  </tbody>\n",
       "</table>\n",
       "</div>"
      ],
      "text/plain": [
       "   ItemNum                                      ItemStem_Text  \\\n",
       "0       91  Over 1 year, a study is conducted to assess th...   \n",
       "1      288  A previously healthy 52-year-old woman comes t...   \n",
       "2      160  A 42-year-old woman is brought to the emergenc...   \n",
       "3      514  A 37-year-old woman comes to the office for a ...   \n",
       "4      452  A 71-year-old woman comes to the physician bec...   \n",
       "\n",
       "                                        Answer__A  \\\n",
       "0                              Case-control study   \n",
       "1  Calcitriol production by activated macrophages   \n",
       "2                          CT scan of the abdomen   \n",
       "3                          Corticosteroid therapy   \n",
       "4                                        Cellular   \n",
       "\n",
       "                                           Answer__B  \\\n",
       "0                                    Crossover study   \n",
       "1             Local resorption of bone by metastases   \n",
       "2                               CT scan of the chest   \n",
       "3  Taking frequent breaks from the paper-bleachin...   \n",
       "4                                         Complement   \n",
       "\n",
       "                                       Answer__C  \\\n",
       "0                    Open-labeled clinical trial   \n",
       "1  Parathyroid hormone-related peptide secretion   \n",
       "2                                   Thoracoscopy   \n",
       "3  Undergoing monthly pulmonary function testing   \n",
       "4                                        Humoral   \n",
       "\n",
       "                          Answer__D  \\\n",
       "0         Randomized clinical trial   \n",
       "1  Secretion of parathyroid hormone   \n",
       "2                        Laparotomy   \n",
       "3        Using a respirator at work   \n",
       "4                   Phagocytic cell   \n",
       "\n",
       "                                           Answer__E Answer__F Answer__G  \\\n",
       "0         Single-blind, randomized, controlled trial       NaN       NaN   \n",
       "1           Secretion of thyroid-stimulating hormone       NaN       NaN   \n",
       "2                                        Thoracotomy       NaN       NaN   \n",
       "3  Washing daily after work with a chlorhexidine-...       NaN       NaN   \n",
       "4                                 Toll-like receptor       NaN       NaN   \n",
       "\n",
       "  Answer__H Answer__I Answer__J Answer_Key  \\\n",
       "0       NaN       NaN       NaN          C   \n",
       "1       NaN       NaN       NaN          A   \n",
       "2       NaN       NaN       NaN          D   \n",
       "3       NaN       NaN       NaN          D   \n",
       "4       NaN       NaN       NaN          A   \n",
       "\n",
       "                                      Answer_Text ItemType    EXAM  \\\n",
       "0                     Open-labeled clinical trial     Text  STEP 1   \n",
       "1  Calcitriol production by activated macrophages     Text  STEP 1   \n",
       "2                                      Laparotomy     Text  STEP 2   \n",
       "3                      Using a respirator at work     Text  STEP 2   \n",
       "4                                        Cellular      PIX  STEP 1   \n",
       "\n",
       "   Difficulty  Response_Time  \n",
       "0        0.86         111.21  \n",
       "1        0.44          83.94  \n",
       "2        0.64          87.82  \n",
       "3        0.50          54.87  \n",
       "4        0.40          69.11  "
      ]
     },
     "execution_count": 25,
     "metadata": {},
     "output_type": "execute_result"
    }
   ],
   "source": [
    "df = pd.read_excel( 'train_final.xlsx' )\n",
    "df.head()"
   ]
  },
  {
   "cell_type": "markdown",
   "id": "6a3b8443-8c53-4c8f-839c-677789988f44",
   "metadata": {},
   "source": [
    "As there are lot of records with null values, let's fill them up with 0"
   ]
  },
  {
   "cell_type": "code",
   "execution_count": 26,
   "id": "55cda5ae-0ef1-4df6-bc98-76847211ef49",
   "metadata": {},
   "outputs": [
    {
     "data": {
      "text/html": [
       "<div>\n",
       "<style scoped>\n",
       "    .dataframe tbody tr th:only-of-type {\n",
       "        vertical-align: middle;\n",
       "    }\n",
       "\n",
       "    .dataframe tbody tr th {\n",
       "        vertical-align: top;\n",
       "    }\n",
       "\n",
       "    .dataframe thead th {\n",
       "        text-align: right;\n",
       "    }\n",
       "</style>\n",
       "<table border=\"1\" class=\"dataframe\">\n",
       "  <thead>\n",
       "    <tr style=\"text-align: right;\">\n",
       "      <th></th>\n",
       "      <th>ItemNum</th>\n",
       "      <th>ItemStem_Text</th>\n",
       "      <th>Answer__A</th>\n",
       "      <th>Answer__B</th>\n",
       "      <th>Answer__C</th>\n",
       "      <th>Answer__D</th>\n",
       "      <th>Answer__E</th>\n",
       "      <th>Answer__F</th>\n",
       "      <th>Answer__G</th>\n",
       "      <th>Answer__H</th>\n",
       "      <th>Answer__I</th>\n",
       "      <th>Answer__J</th>\n",
       "      <th>Answer_Key</th>\n",
       "      <th>Answer_Text</th>\n",
       "      <th>ItemType</th>\n",
       "      <th>EXAM</th>\n",
       "      <th>Difficulty</th>\n",
       "      <th>Response_Time</th>\n",
       "    </tr>\n",
       "  </thead>\n",
       "  <tbody>\n",
       "    <tr>\n",
       "      <th>0</th>\n",
       "      <td>91</td>\n",
       "      <td>Over 1 year, a study is conducted to assess th...</td>\n",
       "      <td>Case-control study</td>\n",
       "      <td>Crossover study</td>\n",
       "      <td>Open-labeled clinical trial</td>\n",
       "      <td>Randomized clinical trial</td>\n",
       "      <td>Single-blind, randomized, controlled trial</td>\n",
       "      <td>0</td>\n",
       "      <td>0</td>\n",
       "      <td>0</td>\n",
       "      <td>0</td>\n",
       "      <td>0</td>\n",
       "      <td>C</td>\n",
       "      <td>Open-labeled clinical trial</td>\n",
       "      <td>Text</td>\n",
       "      <td>STEP 1</td>\n",
       "      <td>0.86</td>\n",
       "      <td>111.21</td>\n",
       "    </tr>\n",
       "    <tr>\n",
       "      <th>1</th>\n",
       "      <td>288</td>\n",
       "      <td>A previously healthy 52-year-old woman comes t...</td>\n",
       "      <td>Calcitriol production by activated macrophages</td>\n",
       "      <td>Local resorption of bone by metastases</td>\n",
       "      <td>Parathyroid hormone-related peptide secretion</td>\n",
       "      <td>Secretion of parathyroid hormone</td>\n",
       "      <td>Secretion of thyroid-stimulating hormone</td>\n",
       "      <td>0</td>\n",
       "      <td>0</td>\n",
       "      <td>0</td>\n",
       "      <td>0</td>\n",
       "      <td>0</td>\n",
       "      <td>A</td>\n",
       "      <td>Calcitriol production by activated macrophages</td>\n",
       "      <td>Text</td>\n",
       "      <td>STEP 1</td>\n",
       "      <td>0.44</td>\n",
       "      <td>83.94</td>\n",
       "    </tr>\n",
       "  </tbody>\n",
       "</table>\n",
       "</div>"
      ],
      "text/plain": [
       "   ItemNum                                      ItemStem_Text  \\\n",
       "0       91  Over 1 year, a study is conducted to assess th...   \n",
       "1      288  A previously healthy 52-year-old woman comes t...   \n",
       "\n",
       "                                        Answer__A  \\\n",
       "0                              Case-control study   \n",
       "1  Calcitriol production by activated macrophages   \n",
       "\n",
       "                                Answer__B  \\\n",
       "0                         Crossover study   \n",
       "1  Local resorption of bone by metastases   \n",
       "\n",
       "                                       Answer__C  \\\n",
       "0                    Open-labeled clinical trial   \n",
       "1  Parathyroid hormone-related peptide secretion   \n",
       "\n",
       "                          Answer__D  \\\n",
       "0         Randomized clinical trial   \n",
       "1  Secretion of parathyroid hormone   \n",
       "\n",
       "                                    Answer__E Answer__F Answer__G Answer__H  \\\n",
       "0  Single-blind, randomized, controlled trial         0         0         0   \n",
       "1    Secretion of thyroid-stimulating hormone         0         0         0   \n",
       "\n",
       "  Answer__I Answer__J Answer_Key  \\\n",
       "0         0         0          C   \n",
       "1         0         0          A   \n",
       "\n",
       "                                      Answer_Text ItemType    EXAM  \\\n",
       "0                     Open-labeled clinical trial     Text  STEP 1   \n",
       "1  Calcitriol production by activated macrophages     Text  STEP 1   \n",
       "\n",
       "   Difficulty  Response_Time  \n",
       "0        0.86         111.21  \n",
       "1        0.44          83.94  "
      ]
     },
     "execution_count": 26,
     "metadata": {},
     "output_type": "execute_result"
    }
   ],
   "source": [
    "df.fillna(0, inplace=True)\n",
    "df.head(2)"
   ]
  },
  {
   "cell_type": "code",
   "execution_count": 27,
   "id": "701f869e-e389-4e7f-b00c-7f27704d6e9f",
   "metadata": {},
   "outputs": [
    {
     "data": {
      "text/plain": [
       "Index(['ItemNum', 'ItemStem_Text', 'Answer__A', 'Answer__B', 'Answer__C',\n",
       "       'Answer__D', 'Answer__E', 'Answer__F', 'Answer__G', 'Answer__H',\n",
       "       'Answer__I', 'Answer__J', 'Answer_Key', 'Answer_Text', 'ItemType',\n",
       "       'EXAM', 'Difficulty', 'Response_Time'],\n",
       "      dtype='object')"
      ]
     },
     "execution_count": 27,
     "metadata": {},
     "output_type": "execute_result"
    }
   ],
   "source": [
    "cols = df.columns\n",
    "cols"
   ]
  },
  {
   "cell_type": "code",
   "execution_count": 28,
   "id": "94adda7d-31b7-4ed9-96b9-4e619210cfd9",
   "metadata": {},
   "outputs": [
    {
     "data": {
      "text/plain": [
       "ItemType\n",
       "Text    416\n",
       "PIX      50\n",
       "Name: count, dtype: int64"
      ]
     },
     "execution_count": 28,
     "metadata": {},
     "output_type": "execute_result"
    }
   ],
   "source": [
    "df.ItemType.value_counts()"
   ]
  },
  {
   "cell_type": "code",
   "execution_count": 29,
   "id": "cd9dff66-e657-4d54-93e9-b5b5cf80e37f",
   "metadata": {},
   "outputs": [
    {
     "data": {
      "text/plain": [
       "EXAM\n",
       "STEP 1    190\n",
       "STEP 2    154\n",
       "STEP 3    122\n",
       "Name: count, dtype: int64"
      ]
     },
     "execution_count": 29,
     "metadata": {},
     "output_type": "execute_result"
    }
   ],
   "source": [
    "df.EXAM.value_counts()"
   ]
  },
  {
   "cell_type": "markdown",
   "id": "9e30294d-3939-42e2-bc9c-4c3e6012e217",
   "metadata": {},
   "source": [
    "As we are trying to build a model that determines the difficulty as well as response time specifically based on the semantics, let us just restrict our independent features to the ItemStem_Text, the multiple choices available and the answer. "
   ]
  },
  {
   "cell_type": "code",
   "execution_count": 30,
   "id": "cebdb792-1fb5-4bfd-866d-8055c671b497",
   "metadata": {},
   "outputs": [],
   "source": [
    "X_cols = ['ItemStem_Text', 'Answer__A', 'Answer__B', 'Answer__C', 'Answer__D', 'Answer__E', 'Answer__F', 'Answer__G', 'Answer__H', \\\n",
    "           'Answer__I', 'Answer__J', 'Answer_Text']\n",
    "y_1 = df['Difficulty']\n",
    "y_2 = df['Response_Time'] "
   ]
  },
  {
   "cell_type": "code",
   "execution_count": 31,
   "id": "06f173f6-3a0d-4bb3-9fc6-1b1c59683e75",
   "metadata": {},
   "outputs": [
    {
     "data": {
      "text/html": [
       "<div>\n",
       "<style scoped>\n",
       "    .dataframe tbody tr th:only-of-type {\n",
       "        vertical-align: middle;\n",
       "    }\n",
       "\n",
       "    .dataframe tbody tr th {\n",
       "        vertical-align: top;\n",
       "    }\n",
       "\n",
       "    .dataframe thead th {\n",
       "        text-align: right;\n",
       "    }\n",
       "</style>\n",
       "<table border=\"1\" class=\"dataframe\">\n",
       "  <thead>\n",
       "    <tr style=\"text-align: right;\">\n",
       "      <th></th>\n",
       "      <th>ItemNum</th>\n",
       "      <th>ItemStem_Text</th>\n",
       "      <th>Answer__A</th>\n",
       "      <th>Answer__B</th>\n",
       "      <th>Answer__C</th>\n",
       "      <th>Answer__D</th>\n",
       "      <th>Answer__E</th>\n",
       "      <th>Answer__F</th>\n",
       "      <th>Answer__G</th>\n",
       "      <th>Answer__H</th>\n",
       "      <th>Answer__I</th>\n",
       "      <th>Answer__J</th>\n",
       "      <th>Answer_Key</th>\n",
       "      <th>Answer_Text</th>\n",
       "      <th>ItemType</th>\n",
       "      <th>EXAM</th>\n",
       "      <th>Difficulty</th>\n",
       "      <th>Response_Time</th>\n",
       "    </tr>\n",
       "  </thead>\n",
       "  <tbody>\n",
       "    <tr>\n",
       "      <th>441</th>\n",
       "      <td>606</td>\n",
       "      <td>An 11-year-old girl is brought to the emergenc...</td>\n",
       "      <td>1</td>\n",
       "      <td>2</td>\n",
       "      <td>3</td>\n",
       "      <td>4</td>\n",
       "      <td>5</td>\n",
       "      <td>0</td>\n",
       "      <td>0</td>\n",
       "      <td>0</td>\n",
       "      <td>0</td>\n",
       "      <td>0</td>\n",
       "      <td>B</td>\n",
       "      <td>2</td>\n",
       "      <td>Text</td>\n",
       "      <td>STEP 1</td>\n",
       "      <td>0.42</td>\n",
       "      <td>63.21</td>\n",
       "    </tr>\n",
       "  </tbody>\n",
       "</table>\n",
       "</div>"
      ],
      "text/plain": [
       "     ItemNum                                      ItemStem_Text Answer__A  \\\n",
       "441      606  An 11-year-old girl is brought to the emergenc...         1   \n",
       "\n",
       "    Answer__B Answer__C Answer__D Answer__E Answer__F Answer__G Answer__H  \\\n",
       "441         2         3         4         5         0         0         0   \n",
       "\n",
       "    Answer__I Answer__J Answer_Key Answer_Text ItemType    EXAM  Difficulty  \\\n",
       "441         0         0          B           2     Text  STEP 1        0.42   \n",
       "\n",
       "     Response_Time  \n",
       "441          63.21  "
      ]
     },
     "execution_count": 31,
     "metadata": {},
     "output_type": "execute_result"
    }
   ],
   "source": [
    "df[df['ItemNum'] == 606 ]"
   ]
  },
  {
   "cell_type": "markdown",
   "id": "0ebc9e0d-762c-44d1-92bd-eb1913478ed4",
   "metadata": {},
   "source": [
    "There are some rows where the answer is in float or integer datatype, so , we will have to convert it to string so as to make it compatible with the embedding generator model."
   ]
  },
  {
   "cell_type": "code",
   "execution_count": 32,
   "id": "8e25bbe3-8187-4344-9b66-266ed0fd87ee",
   "metadata": {},
   "outputs": [],
   "source": [
    "df[X_cols] = df[X_cols].astype('str')"
   ]
  },
  {
   "cell_type": "markdown",
   "id": "8fb378f2-1830-4363-af5d-bcaafe03ed8e",
   "metadata": {},
   "source": [
    "#### 2. Dividing data into train and test set"
   ]
  },
  {
   "cell_type": "code",
   "execution_count": 33,
   "id": "41ac8b65-a11f-472b-a9a3-80681cfe85fa",
   "metadata": {},
   "outputs": [],
   "source": [
    "X_train1, X_test1, y_train1, y_test1 = train_test_split( df[X_cols], y_1, test_size=0.1, random_state=1 )\n",
    "X_train2, X_test2, y_train2, y_test2 = train_test_split( df[X_cols], y_2, test_size=0.1, random_state=1 )"
   ]
  },
  {
   "cell_type": "markdown",
   "id": "8512428f-01f7-48b0-8eb4-48751602d8fe",
   "metadata": {},
   "source": [
    "#### 3. Vectorizing input"
   ]
  },
  {
   "cell_type": "code",
   "execution_count": 34,
   "id": "bb69e472-2b08-4d1e-b9e2-94bc0dda25e1",
   "metadata": {},
   "outputs": [
    {
     "data": {
      "text/plain": [
       "768"
      ]
     },
     "execution_count": 34,
     "metadata": {},
     "output_type": "execute_result"
    }
   ],
   "source": [
    "# reference: https://huggingface.co/pritamdeka/S-PubMedBert-MS-MARCO\n",
    "model = SentenceTransformer('pritamdeka/S-PubMedBert-MS-MARCO')\n",
    "# example\n",
    "len(model.encode( 'this is it' ))"
   ]
  },
  {
   "cell_type": "code",
   "execution_count": 35,
   "id": "046d14de-4a37-4321-8b04-dd3e89c51b77",
   "metadata": {},
   "outputs": [],
   "source": [
    "def vectorizer( data ):\n",
    "    data_vec = []\n",
    "    for index, row in tqdm(data.iterrows()):\n",
    "        ItemStem_Text_vec = model.encode( row['ItemStem_Text'] )\n",
    "        cnt = 0\n",
    "        temp_vec = np.zeros(768)\n",
    "        for option in [ 'A', 'B', 'C', 'D', 'E', 'F', 'G', 'H', 'I', 'J' ] : \n",
    "            if row[ 'Answer__' + option ] != 0 : \n",
    "                cnt += 1\n",
    "                try: \n",
    "                    temp_vec += model.encode( row[ 'Answer__' + option ] )\n",
    "                except: \n",
    "                    print(f\"Error in {row[ 'Answer__' + option ]}\")\n",
    "                    cnt-=1\n",
    "        temp_vec /= cnt\n",
    "        Answer_vec = model.encode( row[ 'Answer_Text' ] )\n",
    "    \n",
    "        final_vec = ItemStem_Text_vec + temp_vec + Answer_vec \n",
    "        data_vec.append(final_vec)\n",
    "\n",
    "    return np.array(data_vec)"
   ]
  },
  {
   "cell_type": "code",
   "execution_count": 36,
   "id": "0ecb989c-f2e8-4582-8a64-eaa96121e330",
   "metadata": {},
   "outputs": [
    {
     "name": "stderr",
     "output_type": "stream",
     "text": [
      "419it [01:34,  4.44it/s]\n",
      "47it [00:10,  4.68it/s]\n"
     ]
    },
    {
     "data": {
      "text/plain": [
       "((419, 768), (47, 768))"
      ]
     },
     "execution_count": 36,
     "metadata": {},
     "output_type": "execute_result"
    }
   ],
   "source": [
    "X_train_1_vec, X_test_1_vec =  vectorizer(X_train1), vectorizer(X_test1) \n",
    "X_train_1_vec.shape, X_test_1_vec.shape"
   ]
  },
  {
   "cell_type": "markdown",
   "id": "9324b6d5-0818-4e95-9d83-330592e143f9",
   "metadata": {},
   "source": [
    "#### 4. Neural network - baseline model - predicting difficulty"
   ]
  },
  {
   "cell_type": "code",
   "execution_count": 37,
   "id": "5e71fdcf-914a-4387-9e54-147ef2ab9b67",
   "metadata": {},
   "outputs": [
    {
     "name": "stdout",
     "output_type": "stream",
     "text": [
      "Epoch 1/10\n",
      "14/14 [==============================] - 1s 6ms/step - loss: 3.5797 - root_mean_squared_error: 1.8920\n",
      "Epoch 2/10\n",
      "14/14 [==============================] - 0s 2ms/step - loss: 0.9568 - root_mean_squared_error: 0.9782\n",
      "Epoch 3/10\n",
      "14/14 [==============================] - 0s 2ms/step - loss: 0.5168 - root_mean_squared_error: 0.7189\n",
      "Epoch 4/10\n",
      "14/14 [==============================] - 0s 2ms/step - loss: 0.3634 - root_mean_squared_error: 0.6028\n",
      "Epoch 5/10\n",
      "14/14 [==============================] - 0s 2ms/step - loss: 0.3167 - root_mean_squared_error: 0.5628\n",
      "Epoch 6/10\n",
      "14/14 [==============================] - 0s 2ms/step - loss: 0.2875 - root_mean_squared_error: 0.5362\n",
      "Epoch 7/10\n",
      "14/14 [==============================] - 0s 2ms/step - loss: 0.2669 - root_mean_squared_error: 0.5166\n",
      "Epoch 8/10\n",
      "14/14 [==============================] - 0s 2ms/step - loss: 0.2544 - root_mean_squared_error: 0.5044\n",
      "Epoch 9/10\n",
      "14/14 [==============================] - 0s 2ms/step - loss: 0.2341 - root_mean_squared_error: 0.4839\n",
      "Epoch 10/10\n",
      "14/14 [==============================] - 0s 3ms/step - loss: 0.2135 - root_mean_squared_error: 0.4621\n",
      "Model: \"sequential_1\"\n",
      "_________________________________________________________________\n",
      " Layer (type)                Output Shape              Param #   \n",
      "=================================================================\n",
      " dense_1 (Dense)             (None, 1)                 769       \n",
      "                                                                 \n",
      "=================================================================\n",
      "Total params: 769 (3.00 KB)\n",
      "Trainable params: 769 (3.00 KB)\n",
      "Non-trainable params: 0 (0.00 Byte)\n",
      "_________________________________________________________________\n"
     ]
    }
   ],
   "source": [
    "tf.random.set_seed(1)\n",
    "\n",
    "dl_model_1 = tf.keras.Sequential([\n",
    "      tf.keras.layers.InputLayer(input_shape=(768,)),\n",
    "      layers.Dense(1)\n",
    "  ])\n",
    "\n",
    "dl_model_1.compile( optimizer=tf.keras.optimizers.Adam(0.001),\n",
    "                  loss = tf.keras.losses.MeanSquaredError(),\n",
    "                  metrics=[tf.keras.metrics.RootMeanSquaredError()])\n",
    "\n",
    "dl_model_1.fit( X_train_1_vec, y_train1, epochs = 10 )\n",
    "\n",
    "dl_model_1.summary()"
   ]
  },
  {
   "cell_type": "code",
   "execution_count": 38,
   "id": "bb12c429-3a4d-4017-8d6f-d5e1e36108cd",
   "metadata": {},
   "outputs": [
    {
     "name": "stdout",
     "output_type": "stream",
     "text": [
      "2/2 [==============================] - 0s 8ms/step\n"
     ]
    },
    {
     "data": {
      "text/plain": [
       "0.597000774911314"
      ]
     },
     "execution_count": 38,
     "metadata": {},
     "output_type": "execute_result"
    }
   ],
   "source": [
    "y1_predict = dl_model_1.predict(X_test_1_vec)\n",
    "mean_squared_error( y_test1, y1_predict, squared=False ) "
   ]
  },
  {
   "cell_type": "markdown",
   "id": "fd3674ab-18d6-4087-ae3e-14558b71c8a3",
   "metadata": {},
   "source": [
    "#### 5. Neural network - baseline model - predicting response time"
   ]
  },
  {
   "cell_type": "code",
   "execution_count": 46,
   "id": "cd9a0aaa-5dd7-45d1-9394-e060b41d1417",
   "metadata": {},
   "outputs": [
    {
     "name": "stdout",
     "output_type": "stream",
     "text": [
      "Epoch 1/25\n",
      "14/14 [==============================] - 0s 2ms/step - loss: 7398.7046 - root_mean_squared_error: 86.0157\n",
      "Epoch 2/25\n",
      "14/14 [==============================] - 0s 2ms/step - loss: 6228.3657 - root_mean_squared_error: 78.9200\n",
      "Epoch 3/25\n",
      "14/14 [==============================] - 0s 2ms/step - loss: 5196.5815 - root_mean_squared_error: 72.0873\n",
      "Epoch 4/25\n",
      "14/14 [==============================] - 0s 2ms/step - loss: 4317.9116 - root_mean_squared_error: 65.7108\n",
      "Epoch 5/25\n",
      "14/14 [==============================] - 0s 2ms/step - loss: 3588.9243 - root_mean_squared_error: 59.9076\n",
      "Epoch 6/25\n",
      "14/14 [==============================] - 0s 2ms/step - loss: 2980.4312 - root_mean_squared_error: 54.5933\n",
      "Epoch 7/25\n",
      "14/14 [==============================] - 0s 2ms/step - loss: 2490.3997 - root_mean_squared_error: 49.9039\n",
      "Epoch 8/25\n",
      "14/14 [==============================] - 0s 2ms/step - loss: 2097.4565 - root_mean_squared_error: 45.7980\n",
      "Epoch 9/25\n",
      "14/14 [==============================] - 0s 2ms/step - loss: 1773.9528 - root_mean_squared_error: 42.1183\n",
      "Epoch 10/25\n",
      "14/14 [==============================] - 0s 2ms/step - loss: 1527.9879 - root_mean_squared_error: 39.0895\n",
      "Epoch 11/25\n",
      "14/14 [==============================] - 0s 2ms/step - loss: 1330.7578 - root_mean_squared_error: 36.4796\n",
      "Epoch 12/25\n",
      "14/14 [==============================] - 0s 2ms/step - loss: 1182.5005 - root_mean_squared_error: 34.3875\n",
      "Epoch 13/25\n",
      "14/14 [==============================] - 0s 2ms/step - loss: 1069.7693 - root_mean_squared_error: 32.7073\n",
      "Epoch 14/25\n",
      "14/14 [==============================] - 0s 2ms/step - loss: 997.9058 - root_mean_squared_error: 31.5896\n",
      "Epoch 15/25\n",
      "14/14 [==============================] - 0s 2ms/step - loss: 941.9662 - root_mean_squared_error: 30.6915\n",
      "Epoch 16/25\n",
      "14/14 [==============================] - 0s 2ms/step - loss: 903.2342 - root_mean_squared_error: 30.0539\n",
      "Epoch 17/25\n",
      "14/14 [==============================] - 0s 2ms/step - loss: 872.8817 - root_mean_squared_error: 29.5446\n",
      "Epoch 18/25\n",
      "14/14 [==============================] - 0s 2ms/step - loss: 849.0746 - root_mean_squared_error: 29.1389\n",
      "Epoch 19/25\n",
      "14/14 [==============================] - 0s 2ms/step - loss: 835.7493 - root_mean_squared_error: 28.9093\n",
      "Epoch 20/25\n",
      "14/14 [==============================] - 0s 2ms/step - loss: 827.8036 - root_mean_squared_error: 28.7716\n",
      "Epoch 21/25\n",
      "14/14 [==============================] - 0s 2ms/step - loss: 824.7796 - root_mean_squared_error: 28.7190\n",
      "Epoch 22/25\n",
      "14/14 [==============================] - 0s 2ms/step - loss: 823.2013 - root_mean_squared_error: 28.6915\n",
      "Epoch 23/25\n",
      "14/14 [==============================] - 0s 2ms/step - loss: 821.2850 - root_mean_squared_error: 28.6581\n",
      "Epoch 24/25\n",
      "14/14 [==============================] - 0s 2ms/step - loss: 819.5787 - root_mean_squared_error: 28.6283\n",
      "Epoch 25/25\n",
      "14/14 [==============================] - 0s 2ms/step - loss: 818.0315 - root_mean_squared_error: 28.6012\n",
      "Model: \"sequential_6\"\n",
      "_________________________________________________________________\n",
      " Layer (type)                Output Shape              Param #   \n",
      "=================================================================\n",
      " dense_6 (Dense)             (None, 1)                 769       \n",
      "                                                                 \n",
      "=================================================================\n",
      "Total params: 769 (3.00 KB)\n",
      "Trainable params: 769 (3.00 KB)\n",
      "Non-trainable params: 0 (0.00 Byte)\n",
      "_________________________________________________________________\n"
     ]
    }
   ],
   "source": [
    "dl_model_2 = tf.keras.Sequential([\n",
    "      tf.keras.layers.InputLayer(input_shape=(768,)),\n",
    "      layers.Dense(1)\n",
    "  ])\n",
    "\n",
    "dl_model_2.compile( optimizer=tf.keras.optimizers.Adam(0.001),\n",
    "                  loss = tf.keras.losses.MeanSquaredError(),\n",
    "                  metrics=[tf.keras.metrics.RootMeanSquaredError()])\n",
    "\n",
    "dl_model_2.fit( X_train_1_vec, y_train2, epochs = 25 )\n",
    "\n",
    "dl_model_2.summary()"
   ]
  },
  {
   "cell_type": "code",
   "execution_count": 47,
   "id": "d7350699-21ce-4b02-a529-3cbabb50718f",
   "metadata": {},
   "outputs": [
    {
     "name": "stdout",
     "output_type": "stream",
     "text": [
      "WARNING:tensorflow:5 out of the last 9 calls to <function Model.make_predict_function.<locals>.predict_function at 0x000001A8765FDCA0> triggered tf.function retracing. Tracing is expensive and the excessive number of tracings could be due to (1) creating @tf.function repeatedly in a loop, (2) passing tensors with different shapes, (3) passing Python objects instead of tensors. For (1), please define your @tf.function outside of the loop. For (2), @tf.function has reduce_retracing=True option that can avoid unnecessary retracing. For (3), please refer to https://www.tensorflow.org/guide/function#controlling_retracing and https://www.tensorflow.org/api_docs/python/tf/function for  more details.\n",
      "2/2 [==============================] - 0s 3ms/step\n"
     ]
    },
    {
     "data": {
      "text/plain": [
       "24.312319799114924"
      ]
     },
     "execution_count": 47,
     "metadata": {},
     "output_type": "execute_result"
    }
   ],
   "source": [
    "y2_predict = dl_model_2.predict(X_test_1_vec)\n",
    "mean_squared_error( y_test2, y2_predict, squared=False ) "
   ]
  }
 ],
 "metadata": {
  "kernelspec": {
   "display_name": "Python 3 (ipykernel)",
   "language": "python",
   "name": "python3"
  },
  "language_info": {
   "codemirror_mode": {
    "name": "ipython",
    "version": 3
   },
   "file_extension": ".py",
   "mimetype": "text/x-python",
   "name": "python",
   "nbconvert_exporter": "python",
   "pygments_lexer": "ipython3",
   "version": "3.8.17"
  }
 },
 "nbformat": 4,
 "nbformat_minor": 5
}
